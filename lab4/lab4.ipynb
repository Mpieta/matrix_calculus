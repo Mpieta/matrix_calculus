{
 "cells": [
  {
   "cell_type": "code",
   "execution_count": 12,
   "id": "4ecd15c9",
   "metadata": {},
   "outputs": [],
   "source": [
    "import numpy as np\n",
    "import matplotlib.pyplot as plt\n",
    "from scipy.linalg import eig, svd"
   ]
  },
  {
   "cell_type": "code",
   "execution_count": 13,
   "id": "a1924fc2",
   "metadata": {},
   "outputs": [
    {
     "name": "stdout",
     "output_type": "stream",
     "text": [
      "1. Macierz A:\n",
      " [[ 1.76405235  0.40015721  0.97873798  2.2408932   1.86755799]\n",
      " [-0.97727788  0.95008842 -0.15135721 -0.10321885  0.4105985 ]\n",
      " [ 0.14404357  1.45427351  0.76103773  0.12167502  0.44386323]\n",
      " [ 0.33367433  1.49407907 -0.20515826  0.3130677  -0.85409574]\n",
      " [-2.55298982  0.6536186   0.8644362  -0.74216502  2.26975462]\n",
      " [-1.45436567  0.04575852 -0.18718385  1.53277921  1.46935877]\n",
      " [ 0.15494743  0.37816252 -0.88778575 -1.98079647 -0.34791215]]\n"
     ]
    },
    {
     "data": {
      "image/png": "[encoded data removed]",
      "text/plain": [
       "<Figure size 400x400 with 1 Axes>"
      ]
     },
     "metadata": {},
     "output_type": "display_data"
    }
   ],
   "source": [
    "# 1. Wygeneruj macierz A\n",
    "np.random.seed(0)\n",
    "n, m = 7, 5 \n",
    "A = np.random.randn(n, m)\n",
    "\n",
    "print(\"1. Macierz A:\\n\", A)\n",
    "\n",
    "plt.figure(figsize=(4, 4))\n",
    "plt.spy(A)\n",
    "plt.title(\"Zapełnienie macierzy A\")\n",
    "plt.show()"
   ]
  },
  {
   "cell_type": "code",
   "execution_count": 14,
   "id": "54b4af96",
   "metadata": {},
   "outputs": [
    {
     "name": "stdout",
     "output_type": "stream",
     "text": [
      "\n",
      "2. Macierz AAT:\n",
      " [[12.73930969 -0.95640957  2.682496    0.09216727 -0.8202151   3.4484367\n",
      "  -5.53274925]\n",
      " [-0.95640957  2.05989432  1.2954197   0.74146195  3.99370055  1.93823046\n",
      "   0.40383724]\n",
      " [ 2.682496    1.2954197   2.92665778  1.7237209   2.15782468  0.55329467\n",
      "  -0.49880639]\n",
      " [ 0.09216727  0.74146195  1.7237209   3.21319166 -2.22359117 -1.15362473\n",
      "   0.47587015]\n",
      " [-0.8202151   3.99370055  2.15782468 -2.22359117 13.39481918  5.77858962\n",
      "  -0.23543664]\n",
      " [ 3.4484367   1.93823046  0.55329467 -1.15362473  5.77858962  6.66073847\n",
      "  -3.58919833]\n",
      " [-5.53274925  0.40383724 -0.49880639  0.47587015 -0.23543664 -3.58919833\n",
      "   4.99977664]]\n"
     ]
    },
    {
     "data": {
      "image/png": "[encoded data removed]",
      "text/plain": [
       "<Figure size 400x400 with 1 Axes>"
      ]
     },
     "metadata": {},
     "output_type": "display_data"
    }
   ],
   "source": [
    "# 2. Oblicz AAT\n",
    "AAT = A @ A.T\n",
    "print(\"\\n2. Macierz AAT:\\n\", AAT)\n",
    "\n",
    "plt.figure(figsize=(4, 4))\n",
    "plt.spy(AAT)\n",
    "plt.title(\"Zapełnienie AAT\")\n",
    "plt.show()"
   ]
  },
  {
   "cell_type": "code",
   "execution_count": 15,
   "id": "900d26ea",
   "metadata": {},
   "outputs": [
    {
     "name": "stdout",
     "output_type": "stream",
     "text": [
      "\n",
      "3. Wartości własne AAT:\n",
      " [ 1.98616950e+01  1.62810380e+01  5.73679042e+00  3.07811456e+00\n",
      "  1.03674971e+00  9.88145462e-16 -3.63203142e-17]\n",
      "Wektory własne (U):\n",
      " [[ 0.4595873  -0.69478835 -0.15456151 -0.38852128 -0.28306102  0.16520272\n",
      "  -0.16945232]\n",
      " [ 0.16831418  0.21969377 -0.27941894  0.26553401 -0.21172956 -0.29330851\n",
      "  -0.77048878]\n",
      " [ 0.17858882 -0.04423456 -0.61321728 -0.0773898   0.28744433 -0.60968181\n",
      "   0.41731329]\n",
      " [-0.09626838 -0.09141124 -0.60490951  0.50763175 -0.02592542  0.58490362\n",
      "   0.06950986]\n",
      " [ 0.60438752  0.59482214 -0.0882787  -0.30963759  0.19490001  0.37190777\n",
      "  -0.00543064]\n",
      " [ 0.50899982  0.04107215  0.27333     0.52282926 -0.45802225 -0.18419603\n",
      "   0.39996198]\n",
      " [-0.30809606  0.32123321 -0.2712608  -0.38162528 -0.73755019 -0.02470762\n",
      "   0.19660079]]\n"
     ]
    }
   ],
   "source": [
    "# 3. Wartości i wektory własne AAT\n",
    "λ_AAT, U = eig(AAT)\n",
    "λ_AAT = np.real(λ_AAT)\n",
    "U = np.real(U)\n",
    "print(\"\\n3. Wartości własne AAT:\\n\", λ_AAT)\n",
    "print(\"Wektory własne (U):\\n\", U)"
   ]
  },
  {
   "cell_type": "code",
   "execution_count": 16,
   "id": "452a64af",
   "metadata": {},
   "outputs": [
    {
     "name": "stdout",
     "output_type": "stream",
     "text": [
      "\n",
      "4. Macierz U:\n",
      " [[ 0.4595873  -0.69478835 -0.15456151 -0.38852128 -0.28306102  0.16520272\n",
      "  -0.16945232]\n",
      " [ 0.16831418  0.21969377 -0.27941894  0.26553401 -0.21172956 -0.29330851\n",
      "  -0.77048878]\n",
      " [ 0.17858882 -0.04423456 -0.61321728 -0.0773898   0.28744433 -0.60968181\n",
      "   0.41731329]\n",
      " [-0.09626838 -0.09141124 -0.60490951  0.50763175 -0.02592542  0.58490362\n",
      "   0.06950986]\n",
      " [ 0.60438752  0.59482214 -0.0882787  -0.30963759  0.19490001  0.37190777\n",
      "  -0.00543064]\n",
      " [ 0.50899982  0.04107215  0.27333     0.52282926 -0.45802225 -0.18419603\n",
      "   0.39996198]\n",
      " [-0.30809606  0.32123321 -0.2712608  -0.38162528 -0.73755019 -0.02470762\n",
      "   0.19660079]]\n",
      "Macierz diagonalna S:\n",
      " [[4.45664616 0.         0.         0.         0.        ]\n",
      " [0.         4.03497683 0.         0.         0.        ]\n",
      " [0.         0.         2.39515979 0.         0.        ]\n",
      " [0.         0.         0.         1.75445563 0.        ]\n",
      " [0.         0.         0.         0.         1.01820907]\n",
      " [0.         0.         0.         0.         0.        ]\n",
      " [0.         0.         0.         0.         0.        ]]\n"
     ]
    }
   ],
   "source": [
    "# 4. Macierz U i diagonalna S\n",
    "sorted_indices = np.argsort(λ_AAT)[::-1]\n",
    "λ_sorted = λ_AAT[sorted_indices]\n",
    "U_sorted = U[:, sorted_indices]\n",
    "S_diag = np.sqrt(np.clip(λ_sorted, 0, None))\n",
    "S = np.zeros((n, m))\n",
    "np.fill_diagonal(S, S_diag)\n",
    "\n",
    "print(\"\\n4. Macierz U:\\n\", U_sorted)\n",
    "print(\"Macierz diagonalna S:\\n\", S)"
   ]
  },
  {
   "cell_type": "code",
   "execution_count": 18,
   "id": "5043a082",
   "metadata": {},
   "outputs": [
    {
     "name": "stdout",
     "output_type": "stream",
     "text": [
      "\n",
      "5. Macierz V:\n",
      " [[-0.37946857  0.17087391  0.28736952  0.4366532   0.74401509]\n",
      " [-0.7449244   0.05996162 -0.12561829 -0.65140955  0.03711975]\n",
      " [-0.21039754 -0.94802192 -0.1412078   0.18382029  0.05707687]\n",
      " [-0.46490283  0.23935052 -0.3478105   0.59196133 -0.5051597 ]\n",
      " [-0.20171631 -0.10569995  0.87219666  0.02813293 -0.43199487]]\n"
     ]
    }
   ],
   "source": [
    "# 5. Oblicz V z definicji: V = AᵗUS⁻¹\n",
    "r = np.linalg.matrix_rank(A)\n",
    "U_r = U_sorted[:, :r]\n",
    "S_r_inv = np.diag(1.0 / S_diag[:r])\n",
    "V = A.T @ U_r @ S_r_inv\n",
    "print(\"\\n5. Macierz V:\\n\", V.T)"
   ]
  },
  {
   "cell_type": "code",
   "execution_count": 19,
   "id": "98ffd3eb",
   "metadata": {},
   "outputs": [
    {
     "name": "stdout",
     "output_type": "stream",
     "text": [
      "\n",
      "6. Wiersze macierzy Vᵗ:\n",
      " [[-0.37946857  0.17087391  0.28736952  0.4366532   0.74401509]\n",
      " [-0.7449244   0.05996162 -0.12561829 -0.65140955  0.03711975]\n",
      " [-0.21039754 -0.94802192 -0.1412078   0.18382029  0.05707687]\n",
      " [-0.46490283  0.23935052 -0.3478105   0.59196133 -0.5051597 ]\n",
      " [-0.20171631 -0.10569995  0.87219666  0.02813293 -0.43199487]]\n"
     ]
    }
   ],
   "source": [
    "# 6. Wiersze macierzy V\n",
    "print(\"\\n6. Wiersze macierzy Vᵗ:\\n\", V.T)"
   ]
  },
  {
   "cell_type": "code",
   "execution_count": 20,
   "id": "850c880d",
   "metadata": {},
   "outputs": [
    {
     "name": "stdout",
     "output_type": "stream",
     "text": [
      "\n",
      "7. Macierz ATA:\n",
      " [[12.85598506 -1.19122348 -0.15659353  3.53451451 -5.31340645]\n",
      " [-1.19122348  5.9822955   1.26879969  0.27932105  1.92605582]\n",
      " [-0.15659353  1.26879969  3.17255665  3.06729811  4.27461364]\n",
      " [ 3.53451451  0.27932105  3.06729811 11.96884834  5.18604702]\n",
      " [-5.31340645  1.92605582  4.27461364  5.18604702 12.01470219]]\n"
     ]
    },
    {
     "data": {
      "image/png": "[encoded data removed]",
      "text/plain": [
       "<Figure size 400x400 with 1 Axes>"
      ]
     },
     "metadata": {},
     "output_type": "display_data"
    }
   ],
   "source": [
    "# 7. Macierz ATA\n",
    "ATA = A.T @ A\n",
    "print(\"\\n7. Macierz ATA:\\n\", ATA)\n",
    "\n",
    "plt.figure(figsize=(4, 4))\n",
    "plt.spy(ATA)\n",
    "plt.title(\"Zapełnienie ATA\")\n",
    "plt.show()"
   ]
  },
  {
   "cell_type": "code",
   "execution_count": 21,
   "id": "08c0a27d",
   "metadata": {},
   "outputs": [
    {
     "name": "stdout",
     "output_type": "stream",
     "text": [
      "\n",
      "8. Wartości własne ATA:\n",
      " [19.86169504 16.28103802  5.73679042  1.03674971  3.07811456]\n",
      "Wektory własne V:\n",
      " [[-0.37946857  0.17087391  0.28736952  0.4366532   0.74401509]\n",
      " [ 0.7449244  -0.05996162  0.12561829  0.65140955 -0.03711975]\n",
      " [ 0.21039754  0.94802192  0.1412078  -0.18382029 -0.05707687]\n",
      " [ 0.20171631  0.10569995 -0.87219666 -0.02813293  0.43199487]\n",
      " [ 0.46490283 -0.23935052  0.3478105  -0.59196133  0.5051597 ]]\n"
     ]
    }
   ],
   "source": [
    "# 8. Wartości i wektory własne ATA\n",
    "λ_ATA, V2 = eig(ATA)\n",
    "λ_ATA = np.real(λ_ATA)\n",
    "V2 = np.real(V2)\n",
    "print(\"\\n8. Wartości własne ATA:\\n\", λ_ATA)\n",
    "print(\"Wektory własne V:\\n\", V2.T)"
   ]
  },
  {
   "cell_type": "code",
   "execution_count": 22,
   "id": "7d20ccbd",
   "metadata": {},
   "outputs": [
    {
     "name": "stdout",
     "output_type": "stream",
     "text": [
      "\n",
      "9. Wiersze macierzy Vᵗ:\n",
      " [[-0.37946857  0.17087391  0.28736952  0.4366532   0.74401509]\n",
      " [ 0.7449244  -0.05996162  0.12561829  0.65140955 -0.03711975]\n",
      " [ 0.21039754  0.94802192  0.1412078  -0.18382029 -0.05707687]\n",
      " [ 0.46490283 -0.23935052  0.3478105  -0.59196133  0.5051597 ]\n",
      " [ 0.20171631  0.10569995 -0.87219666 -0.02813293  0.43199487]]\n",
      "Macierz diagonalna S:\n",
      " [[4.45664616 0.         0.         0.         0.        ]\n",
      " [0.         4.03497683 0.         0.         0.        ]\n",
      " [0.         0.         2.39515979 0.         0.        ]\n",
      " [0.         0.         0.         1.75445563 0.        ]\n",
      " [0.         0.         0.         0.         1.01820907]\n",
      " [0.         0.         0.         0.         0.        ]\n",
      " [0.         0.         0.         0.         0.        ]]\n"
     ]
    }
   ],
   "source": [
    "# 9. Diagonalna S i wiersze V\n",
    "sorted_indices2 = np.argsort(λ_ATA)[::-1]\n",
    "λ_sorted2 = λ_ATA[sorted_indices2]\n",
    "V_sorted = V2[:, sorted_indices2]\n",
    "S2_diag = np.sqrt(np.clip(λ_sorted2, 0, None))\n",
    "S2 = np.zeros((n, m))\n",
    "np.fill_diagonal(S2, S2_diag)\n",
    "\n",
    "print(\"\\n9. Wiersze macierzy Vᵗ:\\n\", V_sorted.T)\n",
    "print(\"Macierz diagonalna S:\\n\", S2)"
   ]
  },
  {
   "cell_type": "code",
   "execution_count": 23,
   "id": "4112ca36",
   "metadata": {},
   "outputs": [
    {
     "name": "stdout",
     "output_type": "stream",
     "text": [
      "\n",
      "10. Macierz U:\n",
      " [[ 0.4595873   0.69478835  0.15456151  0.38852128  0.28306102]\n",
      " [ 0.16831418 -0.21969377  0.27941894 -0.26553401  0.21172956]\n",
      " [ 0.17858882  0.04423456  0.61321728  0.0773898  -0.28744433]\n",
      " [-0.09626838  0.09141124  0.60490951 -0.50763175  0.02592542]\n",
      " [ 0.60438752 -0.59482214  0.0882787   0.30963759 -0.19490001]\n",
      " [ 0.50899982 -0.04107215 -0.27333    -0.52282926  0.45802225]\n",
      " [-0.30809606 -0.32123321  0.2712608   0.38162528  0.73755019]]\n"
     ]
    }
   ],
   "source": [
    "# 10. Oblicz U = AVS⁻¹\n",
    "S2_inv = np.zeros((m, m))\n",
    "for i in range(min(n, m)):\n",
    "    if S2_diag[i] != 0:\n",
    "        S2_inv[i, i] = 1.0 / S2_diag[i]\n",
    "U2 = A @ V_sorted @ S2_inv\n",
    "print(\"\\n10. Macierz U:\\n\", U2)"
   ]
  },
  {
   "cell_type": "code",
   "execution_count": 24,
   "id": "82c1d56d",
   "metadata": {},
   "outputs": [
    {
     "name": "stdout",
     "output_type": "stream",
     "text": [
      "\n",
      "11. Kolumny macierzy U:\n",
      " [[ 0.4595873   0.69478835  0.15456151  0.38852128  0.28306102]\n",
      " [ 0.16831418 -0.21969377  0.27941894 -0.26553401  0.21172956]\n",
      " [ 0.17858882  0.04423456  0.61321728  0.0773898  -0.28744433]\n",
      " [-0.09626838  0.09141124  0.60490951 -0.50763175  0.02592542]\n",
      " [ 0.60438752 -0.59482214  0.0882787   0.30963759 -0.19490001]\n",
      " [ 0.50899982 -0.04107215 -0.27333    -0.52282926  0.45802225]\n",
      " [-0.30809606 -0.32123321  0.2712608   0.38162528  0.73755019]]\n"
     ]
    }
   ],
   "source": [
    "# 11. Wiersze macierzy U\n",
    "print(\"\\n11. Kolumny macierzy U:\\n\", U2)"
   ]
  },
  {
   "cell_type": "code",
   "execution_count": 26,
   "id": "eba336e4",
   "metadata": {},
   "outputs": [
    {
     "name": "stdout",
     "output_type": "stream",
     "text": [
      "\n",
      "12. Różnica A - U S Vᵗ (metoda 1):\n",
      " [[-2.22044605e-16  1.66533454e-16  4.44089210e-16  1.33226763e-15\n",
      "   1.33226763e-15]\n",
      " [ 2.22044605e-16  3.33066907e-16 -1.94289029e-16 -6.66133815e-16\n",
      "   3.33066907e-16]\n",
      " [ 1.02695630e-15  0.00000000e+00 -4.44089210e-16  8.46545056e-16\n",
      "  -1.60982339e-15]\n",
      " [ 4.99600361e-16  6.66133815e-16  1.38777878e-16  2.77555756e-16\n",
      "  -4.44089210e-16]\n",
      " [ 0.00000000e+00 -7.77156117e-16 -1.11022302e-16  0.00000000e+00\n",
      "   4.44089210e-16]\n",
      " [ 4.44089210e-16 -1.24900090e-16  1.94289029e-16 -2.22044605e-16\n",
      "  -4.44089210e-16]\n",
      " [-8.32667268e-16 -1.66533454e-16 -2.22044605e-16 -4.44089210e-16\n",
      "   2.22044605e-16]]\n",
      "Różnica A - U S Vᵗ (metoda 2):\n",
      " [[ 0.00000000e+00  7.21644966e-16 -1.11022302e-15 -2.66453526e-15\n",
      "  -1.99840144e-15]\n",
      " [-4.44089210e-16 -6.66133815e-16 -4.44089210e-16  4.16333634e-17\n",
      "   1.11022302e-16]\n",
      " [ 5.55111512e-17 -1.11022302e-15  1.11022302e-16 -3.05311332e-16\n",
      "   1.66533454e-16]\n",
      " [ 4.44089210e-16 -1.33226763e-15 -4.16333634e-16  5.55111512e-17\n",
      "   1.33226763e-15]\n",
      " [-8.88178420e-16  1.11022302e-16  1.11022302e-16 -1.11022302e-16\n",
      "  -1.33226763e-15]\n",
      " [-4.44089210e-16  7.28583860e-16 -1.08246745e-15 -1.33226763e-15\n",
      "  -6.66133815e-16]\n",
      " [-1.66533454e-16 -3.33066907e-16  0.00000000e+00  1.99840144e-15\n",
      "   7.21644966e-16]]\n"
     ]
    }
   ],
   "source": [
    "# 12. Porównanie dwóch dekompozycji\n",
    "A_reconstructed_1 = U_sorted @ S @ V.T\n",
    "\n",
    "r = np.linalg.matrix_rank(A)\n",
    "U2_r = U2[:, :r]\n",
    "V_sorted_r = V_sorted[:, :r]\n",
    "S2_r = np.diag(S_diag[:r])\n",
    "A_reconstructed_2 = U2_r @ S2_r @ V_sorted_r.T\n",
    "\n",
    "print(\"\\n12. Różnica A - U S Vᵗ (metoda 1):\\n\", A - A_reconstructed_1)\n",
    "print(\"Różnica A - U S Vᵗ (metoda 2):\\n\", A - A_reconstructed_2)"
   ]
  },
  {
   "cell_type": "code",
   "execution_count": 27,
   "id": "d235a4f5",
   "metadata": {},
   "outputs": [
    {
     "name": "stdout",
     "output_type": "stream",
     "text": [
      "\n",
      "13. Wymiar obrazu R(A): 5\n",
      "Wymiar jądra N(A): 0\n"
     ]
    }
   ],
   "source": [
    "# 13. Rank i jądro\n",
    "rank = np.linalg.matrix_rank(A)\n",
    "nullity = m - rank\n",
    "print(\"\\n13. Wymiar obrazu R(A):\", rank)\n",
    "print(\"Wymiar jądra N(A):\", nullity)"
   ]
  }
 ],
 "metadata": {
  "kernelspec": {
   "display_name": "Python 3",
   "language": "python",
   "name": "python3"
  },
  "language_info": {
   "codemirror_mode": {
    "name": "ipython",
    "version": 3
   },
   "file_extension": ".py",
   "mimetype": "text/x-python",
   "name": "python",
   "nbconvert_exporter": "python",
   "pygments_lexer": "ipython3",
   "version": "3.13.2"
  }
 },
 "nbformat": 4,
 "nbformat_minor": 5
}
